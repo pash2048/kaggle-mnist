{
  "nbformat": 4,
  "nbformat_minor": 0,
  "metadata": {
    "colab": {
      "name": "kaggel_minist.ipynb",
      "version": "0.3.2",
      "provenance": []
    },
    "kernelspec": {
      "name": "python3",
      "display_name": "Python 3"
    },
    "accelerator": "TPU"
  },
  "cells": [
    {
      "metadata": {
        "id": "42V-fkdlgwZP",
        "colab_type": "code",
        "outputId": "bc5d6ee7-3311-4af2-f39b-0af88bdbcd07",
        "colab": {
          "base_uri": "https://localhost:8080/",
          "height": 204
        }
      },
      "cell_type": "code",
      "source": [
        "!pip install kaggle --upgrade"
      ],
      "execution_count": 0,
      "outputs": [
        {
          "output_type": "stream",
          "text": [
            "Requirement already up-to-date: kaggle in /usr/local/lib/python3.6/dist-packages (1.5.3)\n",
            "Requirement already satisfied, skipping upgrade: urllib3<1.25,>=1.21.1 in /usr/local/lib/python3.6/dist-packages (from kaggle) (1.22)\n",
            "Requirement already satisfied, skipping upgrade: six>=1.10 in /usr/local/lib/python3.6/dist-packages (from kaggle) (1.11.0)\n",
            "Requirement already satisfied, skipping upgrade: certifi in /usr/local/lib/python3.6/dist-packages (from kaggle) (2018.11.29)\n",
            "Requirement already satisfied, skipping upgrade: python-dateutil in /usr/local/lib/python3.6/dist-packages (from kaggle) (2.5.3)\n",
            "Requirement already satisfied, skipping upgrade: requests in /usr/local/lib/python3.6/dist-packages (from kaggle) (2.18.4)\n",
            "Requirement already satisfied, skipping upgrade: tqdm in /usr/local/lib/python3.6/dist-packages (from kaggle) (4.28.1)\n",
            "Requirement already satisfied, skipping upgrade: python-slugify in /usr/local/lib/python3.6/dist-packages (from kaggle) (3.0.0)\n",
            "Requirement already satisfied, skipping upgrade: idna<2.7,>=2.5 in /usr/local/lib/python3.6/dist-packages (from requests->kaggle) (2.6)\n",
            "Requirement already satisfied, skipping upgrade: chardet<3.1.0,>=3.0.2 in /usr/local/lib/python3.6/dist-packages (from requests->kaggle) (3.0.4)\n",
            "Requirement already satisfied, skipping upgrade: text-unidecode==1.2 in /usr/local/lib/python3.6/dist-packages (from python-slugify->kaggle) (1.2)\n"
          ],
          "name": "stdout"
        }
      ]
    },
    {
      "metadata": {
        "id": "lI4jsanalAuU",
        "colab_type": "code",
        "outputId": "f9185750-95c7-4202-eb21-6685a0eaebbe",
        "colab": {
          "resources": {
            "http://localhost:8080/nbextensions/google.colab/files.js": {
              "data": "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",
              "ok": true,
              "headers": [
                [
                  "content-type",
                  "application/javascript"
                ]
              ],
              "status": 200,
              "status_text": ""
            }
          },
          "base_uri": "https://localhost:8080/",
          "height": 91
        }
      },
      "cell_type": "code",
      "source": [
        "from google.colab import files\n",
        "files.upload()"
      ],
      "execution_count": 0,
      "outputs": [
        {
          "output_type": "display_data",
          "data": {
            "text/html": [
              "\n",
              "     <input type=\"file\" id=\"files-6e88dfb5-af98-425a-9266-662b72ffac6b\" name=\"files[]\" multiple disabled />\n",
              "     <output id=\"result-6e88dfb5-af98-425a-9266-662b72ffac6b\">\n",
              "      Upload widget is only available when the cell has been executed in the\n",
              "      current browser session. Please rerun this cell to enable.\n",
              "      </output>\n",
              "      <script src=\"/nbextensions/google.colab/files.js\"></script> "
            ],
            "text/plain": [
              "<IPython.core.display.HTML object>"
            ]
          },
          "metadata": {
            "tags": []
          }
        },
        {
          "output_type": "stream",
          "text": [
            "Saving kaggle.json to kaggle.json\n"
          ],
          "name": "stdout"
        },
        {
          "output_type": "execute_result",
          "data": {
            "text/plain": [
              "{'kaggle.json': b'{\"username\":\"pash2048\",\"key\":\"71239f78a0afd14dd4cee721dc8f30ab\"}'}"
            ]
          },
          "metadata": {
            "tags": []
          },
          "execution_count": 4
        }
      ]
    },
    {
      "metadata": {
        "id": "TD1jEdpvlE8K",
        "colab_type": "code",
        "colab": {}
      },
      "cell_type": "code",
      "source": [
        "!mkdir -p ~/.kaggle\n",
        "!cp kaggle.json ~/.kaggle/"
      ],
      "execution_count": 0,
      "outputs": []
    },
    {
      "metadata": {
        "id": "iaBnlyIKpB-1",
        "colab_type": "code",
        "colab": {}
      },
      "cell_type": "code",
      "source": [
        "!chmod 600 /root/.kaggle/kaggle.json"
      ],
      "execution_count": 0,
      "outputs": []
    },
    {
      "metadata": {
        "id": "l-PPAAR5evWL",
        "colab_type": "code",
        "outputId": "4d20d690-4cd1-4bde-efef-92ebd47cf7cd",
        "colab": {
          "base_uri": "https://localhost:8080/",
          "height": 170
        }
      },
      "cell_type": "code",
      "source": [
        "!kaggle competitions download -c digit-recognizer"
      ],
      "execution_count": 0,
      "outputs": [
        {
          "output_type": "stream",
          "text": [
            "Downloading train.csv to /content\n",
            " 72% 53.0M/73.2M [00:00<00:00, 63.1MB/s]\n",
            "100% 73.2M/73.2M [00:00<00:00, 124MB/s] \n",
            "Downloading test.csv to /content\n",
            " 94% 46.0M/48.8M [00:00<00:00, 68.9MB/s]\n",
            "100% 48.8M/48.8M [00:00<00:00, 140MB/s] \n",
            "Downloading sample_submission.csv to /content\n",
            "  0% 0.00/235k [00:00<?, ?B/s]\n",
            "100% 235k/235k [00:00<00:00, 70.9MB/s]\n"
          ],
          "name": "stdout"
        }
      ]
    },
    {
      "metadata": {
        "id": "W5l3bxE2gIA5",
        "colab_type": "code",
        "colab": {}
      },
      "cell_type": "code",
      "source": [
        "import pandas as pd\n",
        "import keras\n",
        "import matplotlib.pyplot as plt\n",
        "import matplotlib\n",
        "import numpy\n",
        "import cv2\n",
        "from sklearn.model_selection import train_test_split\n",
        "from keras.layers import Dense\n",
        "from keras.models import Sequential\n"
      ],
      "execution_count": 0,
      "outputs": []
    },
    {
      "metadata": {
        "id": "6H9pW3bpl1sf",
        "colab_type": "code",
        "outputId": "c65a4e05-58b1-44d2-f588-ecc314c286f8",
        "colab": {
          "base_uri": "https://localhost:8080/",
          "height": 253
        }
      },
      "cell_type": "code",
      "source": [
        "data = pd.read_csv(\"train.csv\")\n",
        "data.head()"
      ],
      "execution_count": 0,
      "outputs": [
        {
          "output_type": "execute_result",
          "data": {
            "text/html": [
              "<div>\n",
              "<style scoped>\n",
              "    .dataframe tbody tr th:only-of-type {\n",
              "        vertical-align: middle;\n",
              "    }\n",
              "\n",
              "    .dataframe tbody tr th {\n",
              "        vertical-align: top;\n",
              "    }\n",
              "\n",
              "    .dataframe thead th {\n",
              "        text-align: right;\n",
              "    }\n",
              "</style>\n",
              "<table border=\"1\" class=\"dataframe\">\n",
              "  <thead>\n",
              "    <tr style=\"text-align: right;\">\n",
              "      <th></th>\n",
              "      <th>label</th>\n",
              "      <th>pixel0</th>\n",
              "      <th>pixel1</th>\n",
              "      <th>pixel2</th>\n",
              "      <th>pixel3</th>\n",
              "      <th>pixel4</th>\n",
              "      <th>pixel5</th>\n",
              "      <th>pixel6</th>\n",
              "      <th>pixel7</th>\n",
              "      <th>pixel8</th>\n",
              "      <th>...</th>\n",
              "      <th>pixel774</th>\n",
              "      <th>pixel775</th>\n",
              "      <th>pixel776</th>\n",
              "      <th>pixel777</th>\n",
              "      <th>pixel778</th>\n",
              "      <th>pixel779</th>\n",
              "      <th>pixel780</th>\n",
              "      <th>pixel781</th>\n",
              "      <th>pixel782</th>\n",
              "      <th>pixel783</th>\n",
              "    </tr>\n",
              "  </thead>\n",
              "  <tbody>\n",
              "    <tr>\n",
              "      <th>0</th>\n",
              "      <td>1</td>\n",
              "      <td>0</td>\n",
              "      <td>0</td>\n",
              "      <td>0</td>\n",
              "      <td>0</td>\n",
              "      <td>0</td>\n",
              "      <td>0</td>\n",
              "      <td>0</td>\n",
              "      <td>0</td>\n",
              "      <td>0</td>\n",
              "      <td>...</td>\n",
              "      <td>0</td>\n",
              "      <td>0</td>\n",
              "      <td>0</td>\n",
              "      <td>0</td>\n",
              "      <td>0</td>\n",
              "      <td>0</td>\n",
              "      <td>0</td>\n",
              "      <td>0</td>\n",
              "      <td>0</td>\n",
              "      <td>0</td>\n",
              "    </tr>\n",
              "    <tr>\n",
              "      <th>1</th>\n",
              "      <td>0</td>\n",
              "      <td>0</td>\n",
              "      <td>0</td>\n",
              "      <td>0</td>\n",
              "      <td>0</td>\n",
              "      <td>0</td>\n",
              "      <td>0</td>\n",
              "      <td>0</td>\n",
              "      <td>0</td>\n",
              "      <td>0</td>\n",
              "      <td>...</td>\n",
              "      <td>0</td>\n",
              "      <td>0</td>\n",
              "      <td>0</td>\n",
              "      <td>0</td>\n",
              "      <td>0</td>\n",
              "      <td>0</td>\n",
              "      <td>0</td>\n",
              "      <td>0</td>\n",
              "      <td>0</td>\n",
              "      <td>0</td>\n",
              "    </tr>\n",
              "    <tr>\n",
              "      <th>2</th>\n",
              "      <td>1</td>\n",
              "      <td>0</td>\n",
              "      <td>0</td>\n",
              "      <td>0</td>\n",
              "      <td>0</td>\n",
              "      <td>0</td>\n",
              "      <td>0</td>\n",
              "      <td>0</td>\n",
              "      <td>0</td>\n",
              "      <td>0</td>\n",
              "      <td>...</td>\n",
              "      <td>0</td>\n",
              "      <td>0</td>\n",
              "      <td>0</td>\n",
              "      <td>0</td>\n",
              "      <td>0</td>\n",
              "      <td>0</td>\n",
              "      <td>0</td>\n",
              "      <td>0</td>\n",
              "      <td>0</td>\n",
              "      <td>0</td>\n",
              "    </tr>\n",
              "    <tr>\n",
              "      <th>3</th>\n",
              "      <td>4</td>\n",
              "      <td>0</td>\n",
              "      <td>0</td>\n",
              "      <td>0</td>\n",
              "      <td>0</td>\n",
              "      <td>0</td>\n",
              "      <td>0</td>\n",
              "      <td>0</td>\n",
              "      <td>0</td>\n",
              "      <td>0</td>\n",
              "      <td>...</td>\n",
              "      <td>0</td>\n",
              "      <td>0</td>\n",
              "      <td>0</td>\n",
              "      <td>0</td>\n",
              "      <td>0</td>\n",
              "      <td>0</td>\n",
              "      <td>0</td>\n",
              "      <td>0</td>\n",
              "      <td>0</td>\n",
              "      <td>0</td>\n",
              "    </tr>\n",
              "    <tr>\n",
              "      <th>4</th>\n",
              "      <td>0</td>\n",
              "      <td>0</td>\n",
              "      <td>0</td>\n",
              "      <td>0</td>\n",
              "      <td>0</td>\n",
              "      <td>0</td>\n",
              "      <td>0</td>\n",
              "      <td>0</td>\n",
              "      <td>0</td>\n",
              "      <td>0</td>\n",
              "      <td>...</td>\n",
              "      <td>0</td>\n",
              "      <td>0</td>\n",
              "      <td>0</td>\n",
              "      <td>0</td>\n",
              "      <td>0</td>\n",
              "      <td>0</td>\n",
              "      <td>0</td>\n",
              "      <td>0</td>\n",
              "      <td>0</td>\n",
              "      <td>0</td>\n",
              "    </tr>\n",
              "  </tbody>\n",
              "</table>\n",
              "<p>5 rows × 785 columns</p>\n",
              "</div>"
            ],
            "text/plain": [
              "   label  pixel0  pixel1  pixel2  pixel3  pixel4  pixel5  pixel6  pixel7  \\\n",
              "0      1       0       0       0       0       0       0       0       0   \n",
              "1      0       0       0       0       0       0       0       0       0   \n",
              "2      1       0       0       0       0       0       0       0       0   \n",
              "3      4       0       0       0       0       0       0       0       0   \n",
              "4      0       0       0       0       0       0       0       0       0   \n",
              "\n",
              "   pixel8    ...     pixel774  pixel775  pixel776  pixel777  pixel778  \\\n",
              "0       0    ...            0         0         0         0         0   \n",
              "1       0    ...            0         0         0         0         0   \n",
              "2       0    ...            0         0         0         0         0   \n",
              "3       0    ...            0         0         0         0         0   \n",
              "4       0    ...            0         0         0         0         0   \n",
              "\n",
              "   pixel779  pixel780  pixel781  pixel782  pixel783  \n",
              "0         0         0         0         0         0  \n",
              "1         0         0         0         0         0  \n",
              "2         0         0         0         0         0  \n",
              "3         0         0         0         0         0  \n",
              "4         0         0         0         0         0  \n",
              "\n",
              "[5 rows x 785 columns]"
            ]
          },
          "metadata": {
            "tags": []
          },
          "execution_count": 9
        }
      ]
    },
    {
      "metadata": {
        "id": "m3AMi6RCrXDG",
        "colab_type": "code",
        "colab": {}
      },
      "cell_type": "code",
      "source": [
        "labels = data.pop(\"label\")\n",
        "data = data.values"
      ],
      "execution_count": 0,
      "outputs": []
    },
    {
      "metadata": {
        "id": "1VEsboAgt_Q-",
        "colab_type": "code",
        "colab": {}
      },
      "cell_type": "code",
      "source": [
        "data[1]"
      ],
      "execution_count": 0,
      "outputs": []
    },
    {
      "metadata": {
        "id": "MrQJLxSOt4N8",
        "colab_type": "code",
        "colab": {}
      },
      "cell_type": "code",
      "source": [
        "final_data = list()\n",
        "for item in data:\n",
        "  final_data.append(numpy.reshape(item, (-1, 28)))"
      ],
      "execution_count": 0,
      "outputs": []
    },
    {
      "metadata": {
        "id": "6S5yfwnLvlzg",
        "colab_type": "code",
        "colab": {}
      },
      "cell_type": "code",
      "source": [
        "final_data = numpy.asarray(final_data, dtype=numpy.float32)"
      ],
      "execution_count": 0,
      "outputs": []
    },
    {
      "metadata": {
        "id": "XLqmlez5usKn",
        "colab_type": "code",
        "colab": {}
      },
      "cell_type": "code",
      "source": [
        "final_data= final_data.reshape(-1)"
      ],
      "execution_count": 0,
      "outputs": []
    },
    {
      "metadata": {
        "id": "0j8my6A2vmNy",
        "colab_type": "code",
        "colab": {}
      },
      "cell_type": "code",
      "source": [
        "def valid_imshow_data(data):\n",
        "    data = numpy.asarray(data)\n",
        "    if data.ndim == 2:\n",
        "        return True\n",
        "    elif data.ndim == 3:\n",
        "        if 3 <= data.shape[2] <= 4:\n",
        "            return True\n",
        "        else:\n",
        "            print('The \"data\" has 3 dimensions but the last dimension '\n",
        "                  'must have a length of 3 (RGB) or 4 (RGBA), not \"{}\".'\n",
        "                  ''.format(data.shape[2]))\n",
        "            return False\n",
        "    else:\n",
        "        print('To visualize an image the data must be 2 dimensional or '\n",
        "              '3 dimensional, not \"{}\".'\n",
        "              ''.format(data.ndim))\n",
        "        return False"
      ],
      "execution_count": 0,
      "outputs": []
    },
    {
      "metadata": {
        "id": "zGtVyC6MvoOa",
        "colab_type": "code",
        "outputId": "a5e239ab-3e5d-41ba-e65a-a6a5ab4fc1b5",
        "colab": {
          "base_uri": "https://localhost:8080/",
          "height": 34
        }
      },
      "cell_type": "code",
      "source": [
        "valid_imshow_data(final_data[1])"
      ],
      "execution_count": 0,
      "outputs": [
        {
          "output_type": "execute_result",
          "data": {
            "text/plain": [
              "True"
            ]
          },
          "metadata": {
            "tags": []
          },
          "execution_count": 14
        }
      ]
    },
    {
      "metadata": {
        "id": "GUiRhWVern1y",
        "colab_type": "code",
        "outputId": "69cba95c-1ec7-47ca-cc33-fdd8d61641c7",
        "colab": {
          "base_uri": "https://localhost:8080/",
          "height": 337
        }
      },
      "cell_type": "code",
      "source": [
        "pic1_data = final_data[78]\n",
        "pic1_label = labels[78]\n",
        "plt.figure(figsize = (5,5))\n",
        "plt.axis('off')\n",
        "plt.imshow(pic1_data)\n",
        "plt.show()\n",
        "print(pic1_label)"
      ],
      "execution_count": 0,
      "outputs": [
        {
          "output_type": "display_data",
          "data": {
            "image/png": "[encoded data removed]",
            "text/plain": [
              "<Figure size 360x360 with 1 Axes>"
            ]
          },
          "metadata": {
            "tags": []
          }
        },
        {
          "output_type": "stream",
          "text": [
            "4\n"
          ],
          "name": "stdout"
        }
      ]
    },
    {
      "metadata": {
        "id": "6qsVTaEgxF0I",
        "colab_type": "code",
        "colab": {}
      },
      "cell_type": "code",
      "source": [
        "data_norm = final_data/255"
      ],
      "execution_count": 0,
      "outputs": []
    },
    {
      "metadata": {
        "id": "t5ABS1vIxOTl",
        "colab_type": "code",
        "colab": {}
      },
      "cell_type": "code",
      "source": [
        "data_norm = data_norm.reshape(42000,784)"
      ],
      "execution_count": 0,
      "outputs": []
    },
    {
      "metadata": {
        "id": "f4rsT-fhxh8z",
        "colab_type": "code",
        "outputId": "fac33fb7-0ea0-4de2-eb8c-d101bf734056",
        "colab": {
          "base_uri": "https://localhost:8080/",
          "height": 34
        }
      },
      "cell_type": "code",
      "source": [
        "data_norm.shape"
      ],
      "execution_count": 0,
      "outputs": [
        {
          "output_type": "execute_result",
          "data": {
            "text/plain": [
              "(42000, 784)"
            ]
          },
          "metadata": {
            "tags": []
          },
          "execution_count": 18
        }
      ]
    },
    {
      "metadata": {
        "id": "yCrxfF-GyEp3",
        "colab_type": "code",
        "outputId": "96e4ad84-b911-475e-8716-41b065d184ab",
        "colab": {
          "base_uri": "https://localhost:8080/",
          "height": 51
        }
      },
      "cell_type": "code",
      "source": [
        "X_train, X_test, y_train, y_test = train_test_split(data_norm,labels)\n",
        "print(\"size of training dataset is: \" + str(X_train.shape))\n",
        "print(\"size of test dataset is: \" + str(X_test.shape))"
      ],
      "execution_count": 0,
      "outputs": [
        {
          "output_type": "stream",
          "text": [
            "size of training dataset is: (31500, 784)\n",
            "size of test dataset is: (10500, 784)\n"
          ],
          "name": "stdout"
        }
      ]
    },
    {
      "metadata": {
        "id": "Q7ZHo5MKyRys",
        "colab_type": "code",
        "outputId": "2bf64387-aa31-4fd0-fbac-1029590b2a68",
        "colab": {
          "base_uri": "https://localhost:8080/",
          "height": 34
        }
      },
      "cell_type": "code",
      "source": [
        "n_classes = 10\n",
        "y_train_cat = keras.utils.to_categorical(y_train, n_classes)\n",
        "y_test_cat =  keras.utils.to_categorical(y_test, n_classes)\n",
        "y_train_cat[1]"
      ],
      "execution_count": 0,
      "outputs": [
        {
          "output_type": "execute_result",
          "data": {
            "text/plain": [
              "array([0., 0., 0., 0., 0., 1., 0., 0., 0., 0.], dtype=float32)"
            ]
          },
          "metadata": {
            "tags": []
          },
          "execution_count": 20
        }
      ]
    },
    {
      "metadata": {
        "id": "I3XpjDdlyvrT",
        "colab_type": "code",
        "colab": {}
      },
      "cell_type": "code",
      "source": [
        "model = Sequential()\n",
        "model.add(Dense(784,activation = 'sigmoid', input_shape = (784,)))\n",
        "model.add(Dense(784,activation = 'sigmoid'))\n",
        "model.add(Dense(784,activation = 'sigmoid'))\n",
        "model.add(Dense(10, activation='softmax'))\n"
      ],
      "execution_count": 0,
      "outputs": []
    },
    {
      "metadata": {
        "id": "xYVRXIEXz43j",
        "colab_type": "code",
        "colab": {}
      },
      "cell_type": "code",
      "source": [
        "model.compile(loss = 'categorical_crossentropy',optimizer='adam', metrics=['accuracy'])"
      ],
      "execution_count": 0,
      "outputs": []
    },
    {
      "metadata": {
        "id": "6aI8SHXF0F1j",
        "colab_type": "code",
        "outputId": "054b477f-8155-4b90-8df6-4a66e7d8fc81",
        "colab": {
          "base_uri": "https://localhost:8080/",
          "height": 3434
        }
      },
      "cell_type": "code",
      "source": [
        "model.fit(X_train,y_train_cat, batch_size = 512, epochs=100,verbose = 1)"
      ],
      "execution_count": 0,
      "outputs": [
        {
          "output_type": "stream",
          "text": [
            "Epoch 1/100\n",
            "31500/31500 [==============================] - 8s 251us/step - loss: 1.6315 - acc: 0.4759\n",
            "Epoch 2/100\n",
            "31500/31500 [==============================] - 7s 236us/step - loss: 0.4338 - acc: 0.8692\n",
            "Epoch 3/100\n",
            "31500/31500 [==============================] - 7s 237us/step - loss: 0.3011 - acc: 0.9097\n",
            "Epoch 4/100\n",
            "31500/31500 [==============================] - 7s 236us/step - loss: 0.2563 - acc: 0.9217\n",
            "Epoch 5/100\n",
            "31500/31500 [==============================] - 7s 235us/step - loss: 0.2166 - acc: 0.9351\n",
            "Epoch 6/100\n",
            "31500/31500 [==============================] - 7s 234us/step - loss: 0.1938 - acc: 0.9430\n",
            "Epoch 7/100\n",
            "31500/31500 [==============================] - 7s 237us/step - loss: 0.1730 - acc: 0.9483\n",
            "Epoch 8/100\n",
            "31500/31500 [==============================] - 8s 238us/step - loss: 0.1566 - acc: 0.9532\n",
            "Epoch 9/100\n",
            "31500/31500 [==============================] - 7s 238us/step - loss: 0.1403 - acc: 0.9581\n",
            "Epoch 10/100\n",
            "31500/31500 [==============================] - 7s 237us/step - loss: 0.1271 - acc: 0.9621\n",
            "Epoch 11/100\n",
            "31500/31500 [==============================] - 7s 237us/step - loss: 0.1149 - acc: 0.9655\n",
            "Epoch 12/100\n",
            "31500/31500 [==============================] - 8s 238us/step - loss: 0.1017 - acc: 0.9709\n",
            "Epoch 13/100\n",
            "31500/31500 [==============================] - 7s 237us/step - loss: 0.0961 - acc: 0.9717\n",
            "Epoch 14/100\n",
            "31500/31500 [==============================] - 7s 236us/step - loss: 0.0869 - acc: 0.9744\n",
            "Epoch 15/100\n",
            "31500/31500 [==============================] - 7s 236us/step - loss: 0.0763 - acc: 0.9775\n",
            "Epoch 16/100\n",
            "31500/31500 [==============================] - 7s 236us/step - loss: 0.0678 - acc: 0.9796\n",
            "Epoch 17/100\n",
            "31500/31500 [==============================] - 7s 236us/step - loss: 0.0620 - acc: 0.9813\n",
            "Epoch 18/100\n",
            "31500/31500 [==============================] - 7s 234us/step - loss: 0.0555 - acc: 0.9834\n",
            "Epoch 19/100\n",
            "31500/31500 [==============================] - 7s 235us/step - loss: 0.0513 - acc: 0.9848\n",
            "Epoch 20/100\n",
            "31500/31500 [==============================] - 7s 234us/step - loss: 0.0468 - acc: 0.9861\n",
            "Epoch 21/100\n",
            "31500/31500 [==============================] - 7s 233us/step - loss: 0.0401 - acc: 0.9883\n",
            "Epoch 22/100\n",
            "31500/31500 [==============================] - 7s 233us/step - loss: 0.0349 - acc: 0.9897\n",
            "Epoch 23/100\n",
            "31500/31500 [==============================] - 7s 235us/step - loss: 0.0337 - acc: 0.9897\n",
            "Epoch 24/100\n",
            "31500/31500 [==============================] - 7s 235us/step - loss: 0.0292 - acc: 0.9911\n",
            "Epoch 25/100\n",
            "31500/31500 [==============================] - 8s 257us/step - loss: 0.0235 - acc: 0.9932\n",
            "Epoch 26/100\n",
            "31500/31500 [==============================] - 8s 241us/step - loss: 0.0212 - acc: 0.9943\n",
            "Epoch 27/100\n",
            "31500/31500 [==============================] - 8s 238us/step - loss: 0.0164 - acc: 0.9962\n",
            "Epoch 28/100\n",
            "31500/31500 [==============================] - 8s 239us/step - loss: 0.0163 - acc: 0.9958\n",
            "Epoch 29/100\n",
            "31500/31500 [==============================] - 8s 239us/step - loss: 0.0147 - acc: 0.9966\n",
            "Epoch 30/100\n",
            "31500/31500 [==============================] - 8s 244us/step - loss: 0.0137 - acc: 0.9963\n",
            "Epoch 31/100\n",
            "31500/31500 [==============================] - 7s 237us/step - loss: 0.0113 - acc: 0.9973\n",
            "Epoch 32/100\n",
            "31500/31500 [==============================] - 7s 236us/step - loss: 0.0084 - acc: 0.9984\n",
            "Epoch 33/100\n",
            "31500/31500 [==============================] - 7s 236us/step - loss: 0.0082 - acc: 0.9982\n",
            "Epoch 34/100\n",
            "31500/31500 [==============================] - 7s 238us/step - loss: 0.0069 - acc: 0.9986\n",
            "Epoch 35/100\n",
            "31500/31500 [==============================] - 7s 237us/step - loss: 0.0063 - acc: 0.9988\n",
            "Epoch 36/100\n",
            "31500/31500 [==============================] - 7s 236us/step - loss: 0.0048 - acc: 0.9992\n",
            "Epoch 37/100\n",
            "31500/31500 [==============================] - 8s 240us/step - loss: 0.0050 - acc: 0.9994\n",
            "Epoch 38/100\n",
            "31500/31500 [==============================] - 7s 238us/step - loss: 0.0032 - acc: 0.9997\n",
            "Epoch 39/100\n",
            "31500/31500 [==============================] - 8s 239us/step - loss: 0.0026 - acc: 0.9998\n",
            "Epoch 40/100\n",
            "31500/31500 [==============================] - 8s 240us/step - loss: 0.0022 - acc: 0.9999\n",
            "Epoch 41/100\n",
            "31500/31500 [==============================] - 7s 236us/step - loss: 0.0019 - acc: 1.0000\n",
            "Epoch 42/100\n",
            "31500/31500 [==============================] - 8s 247us/step - loss: 0.0017 - acc: 1.0000\n",
            "Epoch 43/100\n",
            "31500/31500 [==============================] - 8s 243us/step - loss: 0.0014 - acc: 1.0000\n",
            "Epoch 44/100\n",
            "31500/31500 [==============================] - 7s 235us/step - loss: 0.0012 - acc: 1.0000\n",
            "Epoch 45/100\n",
            "31500/31500 [==============================] - 7s 238us/step - loss: 0.0011 - acc: 1.0000\n",
            "Epoch 46/100\n",
            "31500/31500 [==============================] - 7s 236us/step - loss: 9.9454e-04 - acc: 1.0000\n",
            "Epoch 47/100\n",
            "31500/31500 [==============================] - 7s 237us/step - loss: 9.5609e-04 - acc: 1.0000\n",
            "Epoch 48/100\n",
            "31500/31500 [==============================] - 7s 232us/step - loss: 8.6097e-04 - acc: 1.0000\n",
            "Epoch 49/100\n",
            "31500/31500 [==============================] - 7s 233us/step - loss: 8.0065e-04 - acc: 1.0000\n",
            "Epoch 50/100\n",
            "31500/31500 [==============================] - 7s 235us/step - loss: 7.1342e-04 - acc: 1.0000\n",
            "Epoch 51/100\n",
            "31500/31500 [==============================] - 7s 235us/step - loss: 6.9176e-04 - acc: 1.0000\n",
            "Epoch 52/100\n",
            "31500/31500 [==============================] - 7s 231us/step - loss: 6.2289e-04 - acc: 1.0000\n",
            "Epoch 53/100\n",
            "31500/31500 [==============================] - 7s 229us/step - loss: 5.9724e-04 - acc: 1.0000\n",
            "Epoch 54/100\n",
            "31500/31500 [==============================] - 7s 231us/step - loss: 5.3257e-04 - acc: 1.0000\n",
            "Epoch 55/100\n",
            "31500/31500 [==============================] - 7s 232us/step - loss: 4.8479e-04 - acc: 1.0000\n",
            "Epoch 56/100\n",
            "31500/31500 [==============================] - 7s 233us/step - loss: 4.8056e-04 - acc: 1.0000\n",
            "Epoch 57/100\n",
            "31500/31500 [==============================] - 7s 235us/step - loss: 4.3559e-04 - acc: 1.0000\n",
            "Epoch 58/100\n",
            "31500/31500 [==============================] - 7s 231us/step - loss: 4.1215e-04 - acc: 1.0000\n",
            "Epoch 59/100\n",
            "31500/31500 [==============================] - 7s 231us/step - loss: 3.9078e-04 - acc: 1.0000\n",
            "Epoch 60/100\n",
            "31500/31500 [==============================] - 7s 234us/step - loss: 3.6196e-04 - acc: 1.0000\n",
            "Epoch 61/100\n",
            "31500/31500 [==============================] - 8s 239us/step - loss: 3.4612e-04 - acc: 1.0000\n",
            "Epoch 62/100\n",
            "31500/31500 [==============================] - 7s 236us/step - loss: 3.3339e-04 - acc: 1.0000\n",
            "Epoch 63/100\n",
            "31500/31500 [==============================] - 7s 236us/step - loss: 3.3691e-04 - acc: 1.0000\n",
            "Epoch 64/100\n",
            "31500/31500 [==============================] - 7s 237us/step - loss: 3.0562e-04 - acc: 1.0000\n",
            "Epoch 65/100\n",
            "31500/31500 [==============================] - 7s 237us/step - loss: 2.8490e-04 - acc: 1.0000\n",
            "Epoch 66/100\n",
            "31500/31500 [==============================] - 8s 239us/step - loss: 2.6762e-04 - acc: 1.0000\n",
            "Epoch 67/100\n",
            "31500/31500 [==============================] - 7s 238us/step - loss: 2.5323e-04 - acc: 1.0000\n",
            "Epoch 68/100\n",
            "31500/31500 [==============================] - 7s 237us/step - loss: 2.3920e-04 - acc: 1.0000\n",
            "Epoch 69/100\n",
            "31500/31500 [==============================] - 7s 234us/step - loss: 2.1847e-04 - acc: 1.0000\n",
            "Epoch 70/100\n",
            "31500/31500 [==============================] - 7s 235us/step - loss: 2.0973e-04 - acc: 1.0000\n",
            "Epoch 71/100\n",
            "31500/31500 [==============================] - 7s 236us/step - loss: 1.9961e-04 - acc: 1.0000\n",
            "Epoch 72/100\n",
            "31500/31500 [==============================] - 8s 240us/step - loss: 1.8960e-04 - acc: 1.0000\n",
            "Epoch 73/100\n",
            "31500/31500 [==============================] - 7s 233us/step - loss: 1.7989e-04 - acc: 1.0000\n",
            "Epoch 74/100\n",
            "31500/31500 [==============================] - 7s 231us/step - loss: 1.7459e-04 - acc: 1.0000\n",
            "Epoch 75/100\n",
            "31500/31500 [==============================] - 7s 233us/step - loss: 1.6483e-04 - acc: 1.0000\n",
            "Epoch 76/100\n",
            "31500/31500 [==============================] - 7s 236us/step - loss: 1.5693e-04 - acc: 1.0000\n",
            "Epoch 77/100\n",
            "31500/31500 [==============================] - 7s 237us/step - loss: 1.5151e-04 - acc: 1.0000\n",
            "Epoch 78/100\n",
            "31500/31500 [==============================] - 7s 234us/step - loss: 1.4214e-04 - acc: 1.0000\n",
            "Epoch 79/100\n",
            "31500/31500 [==============================] - 7s 233us/step - loss: 1.3660e-04 - acc: 1.0000\n",
            "Epoch 80/100\n",
            "31500/31500 [==============================] - 8s 238us/step - loss: 1.2776e-04 - acc: 1.0000\n",
            "Epoch 81/100\n",
            "31500/31500 [==============================] - 8s 240us/step - loss: 1.2147e-04 - acc: 1.0000\n",
            "Epoch 82/100\n",
            "31500/31500 [==============================] - 8s 240us/step - loss: 1.1715e-04 - acc: 1.0000\n",
            "Epoch 83/100\n",
            "31500/31500 [==============================] - 7s 238us/step - loss: 1.1160e-04 - acc: 1.0000\n",
            "Epoch 84/100\n",
            "31500/31500 [==============================] - 8s 249us/step - loss: 1.0868e-04 - acc: 1.0000\n",
            "Epoch 85/100\n",
            "31500/31500 [==============================] - 8s 247us/step - loss: 1.0406e-04 - acc: 1.0000\n",
            "Epoch 86/100\n",
            "31500/31500 [==============================] - 8s 241us/step - loss: 1.0063e-04 - acc: 1.0000\n",
            "Epoch 87/100\n",
            "31500/31500 [==============================] - 8s 239us/step - loss: 9.4014e-05 - acc: 1.0000\n",
            "Epoch 88/100\n",
            "31500/31500 [==============================] - 8s 241us/step - loss: 8.9577e-05 - acc: 1.0000\n",
            "Epoch 89/100\n",
            "31500/31500 [==============================] - 8s 240us/step - loss: 8.6279e-05 - acc: 1.0000\n",
            "Epoch 90/100\n",
            "31500/31500 [==============================] - 8s 241us/step - loss: 8.4922e-05 - acc: 1.0000\n",
            "Epoch 91/100\n",
            "31500/31500 [==============================] - 8s 240us/step - loss: 8.0097e-05 - acc: 1.0000\n",
            "Epoch 92/100\n",
            "31500/31500 [==============================] - 7s 238us/step - loss: 7.5432e-05 - acc: 1.0000\n",
            "Epoch 93/100\n",
            "31500/31500 [==============================] - 7s 238us/step - loss: 7.2182e-05 - acc: 1.0000\n",
            "Epoch 94/100\n",
            "31500/31500 [==============================] - 7s 237us/step - loss: 6.9449e-05 - acc: 1.0000\n",
            "Epoch 95/100\n",
            "31500/31500 [==============================] - 8s 239us/step - loss: 6.6079e-05 - acc: 1.0000\n",
            "Epoch 96/100\n",
            "31500/31500 [==============================] - 8s 239us/step - loss: 6.3381e-05 - acc: 1.0000\n",
            "Epoch 97/100\n",
            "31500/31500 [==============================] - 8s 241us/step - loss: 6.1903e-05 - acc: 1.0000\n",
            "Epoch 98/100\n",
            "31500/31500 [==============================] - 8s 239us/step - loss: 5.8708e-05 - acc: 1.0000\n",
            "Epoch 99/100\n",
            "31500/31500 [==============================] - 8s 238us/step - loss: 5.5815e-05 - acc: 1.0000\n",
            "Epoch 100/100\n",
            "31500/31500 [==============================] - 8s 239us/step - loss: 5.4279e-05 - acc: 1.0000\n"
          ],
          "name": "stdout"
        },
        {
          "output_type": "execute_result",
          "data": {
            "text/plain": [
              "<keras.callbacks.History at 0x7f5dad0a3940>"
            ]
          },
          "metadata": {
            "tags": []
          },
          "execution_count": 68
        }
      ]
    },
    {
      "metadata": {
        "id": "GACKBoyD1KTy",
        "colab_type": "code",
        "outputId": "92aed22a-cc05-4113-b925-c32192a37aad",
        "colab": {
          "base_uri": "https://localhost:8080/",
          "height": 51
        }
      },
      "cell_type": "code",
      "source": [
        "model.evaluate(X_test,y_test_cat)"
      ],
      "execution_count": 0,
      "outputs": [
        {
          "output_type": "stream",
          "text": [
            "10500/10500 [==============================] - 2s 178us/step\n"
          ],
          "name": "stdout"
        },
        {
          "output_type": "execute_result",
          "data": {
            "text/plain": [
              "[0.1390435059905479, 0.9814285714285714]"
            ]
          },
          "metadata": {
            "tags": []
          },
          "execution_count": 55
        }
      ]
    },
    {
      "metadata": {
        "id": "55NMV0JP2i6M",
        "colab_type": "code",
        "colab": {}
      },
      "cell_type": "code",
      "source": [
        "test_data = pd.read_csv(\"test.csv\")\n",
        "test_data = test_data.values\n",
        "\n",
        "final_test_data = list()\n",
        "\n",
        "for item in test_data:\n",
        "  final_test_data.append(numpy.reshape(item, (-1, 28)))\n",
        "  \n",
        "  \n",
        "final_test_data = numpy.asarray(final_test_data, dtype=numpy.float32)  "
      ],
      "execution_count": 0,
      "outputs": []
    },
    {
      "metadata": {
        "id": "pHJRquTk4El6",
        "colab_type": "code",
        "outputId": "d7a6dc05-db19-4b53-9172-71b96a3c20f0",
        "colab": {
          "base_uri": "https://localhost:8080/",
          "height": 34
        }
      },
      "cell_type": "code",
      "source": [
        "final_test_data.shape"
      ],
      "execution_count": 0,
      "outputs": [
        {
          "output_type": "execute_result",
          "data": {
            "text/plain": [
              "(28000, 28, 28)"
            ]
          },
          "metadata": {
            "tags": []
          },
          "execution_count": 30
        }
      ]
    },
    {
      "metadata": {
        "id": "MjlBvRkt3U6_",
        "colab_type": "code",
        "colab": {}
      },
      "cell_type": "code",
      "source": [
        "final_test_data_norm = final_test_data/255\n",
        "test_data_norm = final_test_data.reshape(28000,784)"
      ],
      "execution_count": 0,
      "outputs": []
    },
    {
      "metadata": {
        "id": "4tnxPKUH4JwN",
        "colab_type": "code",
        "outputId": "43e77483-0922-4065-b7dc-12edfdeebe40",
        "colab": {
          "base_uri": "https://localhost:8080/",
          "height": 34
        }
      },
      "cell_type": "code",
      "source": [
        "preds = model.predict_classes(test_data_norm)\n",
        "preds"
      ],
      "execution_count": 0,
      "outputs": [
        {
          "output_type": "execute_result",
          "data": {
            "text/plain": [
              "array([2, 0, 9, ..., 3, 9, 2])"
            ]
          },
          "metadata": {
            "tags": []
          },
          "execution_count": 58
        }
      ]
    },
    {
      "metadata": {
        "id": "010_5YBF5KBH",
        "colab_type": "code",
        "outputId": "7cb0113e-5063-40e9-f9a9-674bb2c0727f",
        "colab": {
          "base_uri": "https://localhost:8080/",
          "height": 34
        }
      },
      "cell_type": "code",
      "source": [
        "preds.shape"
      ],
      "execution_count": 0,
      "outputs": [
        {
          "output_type": "execute_result",
          "data": {
            "text/plain": [
              "(28000,)"
            ]
          },
          "metadata": {
            "tags": []
          },
          "execution_count": 44
        }
      ]
    },
    {
      "metadata": {
        "id": "3vSi4mVN4e6t",
        "colab_type": "code",
        "outputId": "73a47852-903a-4850-c224-39c817c91c16",
        "colab": {
          "base_uri": "https://localhost:8080/",
          "height": 359
        }
      },
      "cell_type": "code",
      "source": [
        "send_data = pd.read_csv(\"sample_submission.csv\")\n",
        "send_data.head(n=10)"
      ],
      "execution_count": 0,
      "outputs": [
        {
          "output_type": "execute_result",
          "data": {
            "text/html": [
              "<div>\n",
              "<style scoped>\n",
              "    .dataframe tbody tr th:only-of-type {\n",
              "        vertical-align: middle;\n",
              "    }\n",
              "\n",
              "    .dataframe tbody tr th {\n",
              "        vertical-align: top;\n",
              "    }\n",
              "\n",
              "    .dataframe thead th {\n",
              "        text-align: right;\n",
              "    }\n",
              "</style>\n",
              "<table border=\"1\" class=\"dataframe\">\n",
              "  <thead>\n",
              "    <tr style=\"text-align: right;\">\n",
              "      <th></th>\n",
              "      <th>ImageId</th>\n",
              "      <th>Label</th>\n",
              "    </tr>\n",
              "  </thead>\n",
              "  <tbody>\n",
              "    <tr>\n",
              "      <th>0</th>\n",
              "      <td>1</td>\n",
              "      <td>0</td>\n",
              "    </tr>\n",
              "    <tr>\n",
              "      <th>1</th>\n",
              "      <td>2</td>\n",
              "      <td>0</td>\n",
              "    </tr>\n",
              "    <tr>\n",
              "      <th>2</th>\n",
              "      <td>3</td>\n",
              "      <td>0</td>\n",
              "    </tr>\n",
              "    <tr>\n",
              "      <th>3</th>\n",
              "      <td>4</td>\n",
              "      <td>0</td>\n",
              "    </tr>\n",
              "    <tr>\n",
              "      <th>4</th>\n",
              "      <td>5</td>\n",
              "      <td>0</td>\n",
              "    </tr>\n",
              "    <tr>\n",
              "      <th>5</th>\n",
              "      <td>6</td>\n",
              "      <td>0</td>\n",
              "    </tr>\n",
              "    <tr>\n",
              "      <th>6</th>\n",
              "      <td>7</td>\n",
              "      <td>0</td>\n",
              "    </tr>\n",
              "    <tr>\n",
              "      <th>7</th>\n",
              "      <td>8</td>\n",
              "      <td>0</td>\n",
              "    </tr>\n",
              "    <tr>\n",
              "      <th>8</th>\n",
              "      <td>9</td>\n",
              "      <td>0</td>\n",
              "    </tr>\n",
              "    <tr>\n",
              "      <th>9</th>\n",
              "      <td>10</td>\n",
              "      <td>0</td>\n",
              "    </tr>\n",
              "  </tbody>\n",
              "</table>\n",
              "</div>"
            ],
            "text/plain": [
              "   ImageId  Label\n",
              "0        1      0\n",
              "1        2      0\n",
              "2        3      0\n",
              "3        4      0\n",
              "4        5      0\n",
              "5        6      0\n",
              "6        7      0\n",
              "7        8      0\n",
              "8        9      0\n",
              "9       10      0"
            ]
          },
          "metadata": {
            "tags": []
          },
          "execution_count": 59
        }
      ]
    },
    {
      "metadata": {
        "id": "wkgMK-sn4vBD",
        "colab_type": "code",
        "colab": {}
      },
      "cell_type": "code",
      "source": [
        "for i in range(0,28000):\n",
        "   send_data[\"Label\"][i]=preds[i]"
      ],
      "execution_count": 0,
      "outputs": []
    },
    {
      "metadata": {
        "id": "VFsBeGAd5iqE",
        "colab_type": "code",
        "colab": {}
      },
      "cell_type": "code",
      "source": [
        "send_data.to_csv(\"for_send_2.csv\", index=False)"
      ],
      "execution_count": 0,
      "outputs": []
    },
    {
      "metadata": {
        "id": "-6xyUV825pIe",
        "colab_type": "code",
        "outputId": "e0ee2573-174b-4815-a4c1-51b4c9602fc4",
        "colab": {
          "base_uri": "https://localhost:8080/",
          "height": 359
        }
      },
      "cell_type": "code",
      "source": [
        "send_data.head(n=10)"
      ],
      "execution_count": 0,
      "outputs": [
        {
          "output_type": "execute_result",
          "data": {
            "text/html": [
              "<div>\n",
              "<style scoped>\n",
              "    .dataframe tbody tr th:only-of-type {\n",
              "        vertical-align: middle;\n",
              "    }\n",
              "\n",
              "    .dataframe tbody tr th {\n",
              "        vertical-align: top;\n",
              "    }\n",
              "\n",
              "    .dataframe thead th {\n",
              "        text-align: right;\n",
              "    }\n",
              "</style>\n",
              "<table border=\"1\" class=\"dataframe\">\n",
              "  <thead>\n",
              "    <tr style=\"text-align: right;\">\n",
              "      <th></th>\n",
              "      <th>ImageId</th>\n",
              "      <th>Label</th>\n",
              "    </tr>\n",
              "  </thead>\n",
              "  <tbody>\n",
              "    <tr>\n",
              "      <th>0</th>\n",
              "      <td>1</td>\n",
              "      <td>2</td>\n",
              "    </tr>\n",
              "    <tr>\n",
              "      <th>1</th>\n",
              "      <td>2</td>\n",
              "      <td>0</td>\n",
              "    </tr>\n",
              "    <tr>\n",
              "      <th>2</th>\n",
              "      <td>3</td>\n",
              "      <td>9</td>\n",
              "    </tr>\n",
              "    <tr>\n",
              "      <th>3</th>\n",
              "      <td>4</td>\n",
              "      <td>9</td>\n",
              "    </tr>\n",
              "    <tr>\n",
              "      <th>4</th>\n",
              "      <td>5</td>\n",
              "      <td>3</td>\n",
              "    </tr>\n",
              "    <tr>\n",
              "      <th>5</th>\n",
              "      <td>6</td>\n",
              "      <td>7</td>\n",
              "    </tr>\n",
              "    <tr>\n",
              "      <th>6</th>\n",
              "      <td>7</td>\n",
              "      <td>0</td>\n",
              "    </tr>\n",
              "    <tr>\n",
              "      <th>7</th>\n",
              "      <td>8</td>\n",
              "      <td>3</td>\n",
              "    </tr>\n",
              "    <tr>\n",
              "      <th>8</th>\n",
              "      <td>9</td>\n",
              "      <td>0</td>\n",
              "    </tr>\n",
              "    <tr>\n",
              "      <th>9</th>\n",
              "      <td>10</td>\n",
              "      <td>3</td>\n",
              "    </tr>\n",
              "  </tbody>\n",
              "</table>\n",
              "</div>"
            ],
            "text/plain": [
              "   ImageId  Label\n",
              "0        1      2\n",
              "1        2      0\n",
              "2        3      9\n",
              "3        4      9\n",
              "4        5      3\n",
              "5        6      7\n",
              "6        7      0\n",
              "7        8      3\n",
              "8        9      0\n",
              "9       10      3"
            ]
          },
          "metadata": {
            "tags": []
          },
          "execution_count": 63
        }
      ]
    }
  ]
}